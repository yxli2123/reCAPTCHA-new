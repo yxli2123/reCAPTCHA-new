{
 "cells": [
  {
   "cell_type": "code",
   "execution_count": 22,
   "id": "15ec5294",
   "metadata": {},
   "outputs": [],
   "source": [
    "import re\n",
    "import json\n",
    "\n",
    "with open('common_words.txt', 'r') as fp:\n",
    "    text = fp.read()\n",
    "    text = re.findall(\"[^\\u4e00-\\u9fa5][\\u4e00-\\u9fa5][\\u4e00-\\u9fa5] \", text)\n",
    "    text = [word.replace('\\n', '') for word in text]\n",
    "    fp.close()\n",
    "\n",
    "with open('common_words_2ch.txt', 'w', encoding ='utf8') as fp1:\n",
    "    fp1.write(text)\n",
    "    "
   ]
  },
  {
   "cell_type": "code",
   "execution_count": 3,
   "id": "5e4cff92",
   "metadata": {},
   "outputs": [],
   "source": [
    "with open('character.txt', 'r') as fp:\n",
    "    text = fp.read()\n",
    "    fp.close()\n",
    "\n",
    "with open('character_return.txt', 'w') as fp1:\n",
    "    for ch in text:\n",
    "        fp1.write(ch+'\\n')\n",
    "    fp1.close()"
   ]
  },
  {
   "cell_type": "code",
   "execution_count": null,
   "id": "0afed15e",
   "metadata": {
    "pycharm": {
     "name": "#%%\n"
    }
   },
   "outputs": [],
   "source": [
    "\"\"\"Filter 2-char words\"\"\"\n",
    "\"\"\"\n",
    "腌 3463\n",
    "腌菜 1040\n",
    "腌法 5\n",
    "腌黄瓜 86\n",
    "腌货 5\n",
    "\"\"\"\n",
    "\n",
    "with open('webdict_with_freq.txt', 'r') as fp:\n",
    "    text\n",
    "\n"
   ]
  }
 ],
 "metadata": {
  "kernelspec": {
   "display_name": "Python 3 (ipykernel)",
   "language": "python",
   "name": "python3"
  },
  "language_info": {
   "codemirror_mode": {
    "name": "ipython",
    "version": 3
   },
   "file_extension": ".py",
   "mimetype": "text/x-python",
   "name": "python",
   "nbconvert_exporter": "python",
   "pygments_lexer": "ipython3",
   "version": "3.9.7"
  }
 },
 "nbformat": 4,
 "nbformat_minor": 5
}
