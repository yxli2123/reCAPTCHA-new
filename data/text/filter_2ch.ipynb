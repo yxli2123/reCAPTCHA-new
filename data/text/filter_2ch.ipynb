{
 "cells": [
  {
   "cell_type": "code",
   "execution_count": 1,
   "id": "0afed15e",
   "metadata": {
    "pycharm": {
     "name": "#%%\n"
    }
   },
   "outputs": [
    {
     "name": "stdout",
     "output_type": "stream",
     "text": [
      "dict_1ch: 18086\n",
      "dict_2ch: 103502\n"
     ]
    }
   ],
   "source": [
    "import json\n",
    "\n",
    "\"\"\"Filter 1-char and 2-char words\"\"\"\n",
    "\"\"\"\n",
    "腌 3463\n",
    "腌菜 1040\n",
    "腌法 5\n",
    "腌黄瓜 86\n",
    "腌货 5\n",
    "\"\"\"\n",
    "dict_1ch = {}\n",
    "dict_2ch = {}\n",
    "with open('webdict_with_freq.txt', 'r') as fp:\n",
    "    text = fp.readlines()\n",
    "    for line in text:\n",
    "        word, freq = line.split()  # ['腌', '3463']\n",
    "        if len(word) == 1:\n",
    "            dict_1ch[word] = int(freq)\n",
    "        elif len(word) == 2:\n",
    "            dict_2ch[word] = int(freq)\n",
    "            \n",
    "    dict_1ch = {k: v for k, v in sorted(dict_1ch.items(), key=lambda item: item[1], reverse=True)}\n",
    "    dict_2ch = {k: v for k, v in sorted(dict_2ch.items(), key=lambda item: item[1], reverse=True)}\n",
    "\n",
    "print(\"dict_1ch:\", len(dict_1ch))\n",
    "print(\"dict_2ch:\", len(dict_2ch))"
   ]
  },
  {
   "cell_type": "code",
   "execution_count": 8,
   "id": "816afc12",
   "metadata": {},
   "outputs": [
    {
     "name": "stdout",
     "output_type": "stream",
     "text": [
      "1000\n"
     ]
    }
   ],
   "source": [
    "\"\"\"Filter 2-char word that don't much in 1-char word\"\"\"\n",
    "import zhconv\n",
    "small_1ch_list = []\n",
    "for i, char in enumerate(dict_1ch.keys()):\n",
    "    i += 1\n",
    "    if i > 1008:\n",
    "        break\n",
    "    else:\n",
    "        char = zhconv.convert(char, 'zh-cn')\n",
    "        if char not in small_1ch_list:\n",
    "            small_1ch_list.append(char)\n",
    "print(len(small_1ch_list))\n",
    "        \n",
    "filtered_2ch_word = []\n",
    "for word in dict_2ch.keys():\n",
    "    if word[0] in small_1ch_list and word[1] in small_1ch_list:\n",
    "        filtered_2ch_word.append(word)\n"
   ]
  },
  {
   "cell_type": "code",
   "execution_count": 10,
   "id": "c84311a4",
   "metadata": {},
   "outputs": [],
   "source": [
    "\"\"\"Save data info\"\"\"\n",
    "import json\n",
    "\n",
    "with open('./word_1ch.txt', 'w', encoding='utf-8') as word_1ch_file:\n",
    "    word_list = \" \".join(small_1ch_list)\n",
    "    word_1ch_file.write(word_list)\n",
    "    word_1ch_file.close()\n",
    "\n",
    "#with open('./word_2ch.txt', 'w') as word_2ch_file:\n",
    "#    word_list = \" \".join(filtered_2ch_word)\n",
    "#    word_2ch_file.write(word_list)\n",
    "#    word_2ch_file.close()\n",
    "\n",
    "with open('./encoder.json', 'w', encoding='utf-8') as encoder:\n",
    "    word_dict = {k: v for v, k in enumerate(small_1ch_list)} # {\"的\": 1, \"是\": 2, ...}\n",
    "    json.dump(word_dict, encoder)\n",
    "    encoder.close()\n",
    "\n",
    "with open('./decoder.json', 'w', encoding='utf-8') as decoder:\n",
    "    word_dict = {k: v for k, v in enumerate(small_1ch_list)} # {\"1\": \"的\", \"2\": \"是\", ...}\n",
    "    json.dump(word_dict, decoder)\n",
    "    decoder.close()\n",
    "    "
   ]
  },
  {
   "cell_type": "code",
   "execution_count": 5,
   "id": "59437565",
   "metadata": {},
   "outputs": [],
   "source": [
    "\"\"\"3000 words\"\"\"\n",
    "import json\n",
    "\n",
    "with open('./character_3000.txt', 'r', encoding='utf-8') as word_file:\n",
    "    word_list = word_file.read().split()\n",
    "    word_file.close()\n",
    "\n",
    "with open('./encoder_3000.json', 'w', encoding='utf-8') as encoder:\n",
    "    word_dict = {k: v for v, k in enumerate(word_list)} # {\"的\": 1, \"是\": 2, ...}\n",
    "    json.dump(word_dict, encoder, indent=2)\n",
    "    encoder.close()\n",
    "\n",
    "with open('./decoder_3000.json', 'w', encoding='utf-8') as decoder:\n",
    "    word_dict = {k: v for k, v in enumerate(word_list)} # {\"1\": \"的\", \"2\": \"是\", ...}\n",
    "    json.dump(word_dict, decoder, indent=2)\n",
    "    decoder.close()\n"
   ]
  },
  {
   "cell_type": "code",
   "execution_count": null,
   "id": "5ae29024",
   "metadata": {},
   "outputs": [],
   "source": []
  }
 ],
 "metadata": {
  "kernelspec": {
   "display_name": "Python 3 (ipykernel)",
   "language": "python",
   "name": "python3"
  },
  "language_info": {
   "codemirror_mode": {
    "name": "ipython",
    "version": 3
   },
   "file_extension": ".py",
   "mimetype": "text/x-python",
   "name": "python",
   "nbconvert_exporter": "python",
   "pygments_lexer": "ipython3",
   "version": "3.9.5"
  }
 },
 "nbformat": 4,
 "nbformat_minor": 5
}