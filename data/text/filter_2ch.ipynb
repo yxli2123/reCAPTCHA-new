{
 "cells": [
  {
   "cell_type": "code",
   "execution_count": 1,
   "id": "0afed15e",
   "metadata": {
    "pycharm": {
     "name": "#%%\n"
    }
   },
   "outputs": [
    {
     "name": "stdout",
     "output_type": "stream",
     "text": [
      "dict_1ch: 18086\n",
      "dict_2ch: 103502\n"
     ]
    }
   ],
   "source": [
    "import json\n",
    "\n",
    "\"\"\"Filter 1-char and 2-char words\"\"\"\n",
    "\"\"\"\n",
    "腌 3463\n",
    "腌菜 1040\n",
    "腌法 5\n",
    "腌黄瓜 86\n",
    "腌货 5\n",
    "\"\"\"\n",
    "dict_1ch = {}\n",
    "dict_2ch = {}\n",
    "with open('webdict_with_freq.txt', 'r') as fp:\n",
    "    text = fp.readlines()\n",
    "    for line in text:\n",
    "        word, freq = line.split()  # ['腌', '3463']\n",
    "        if len(word) == 1:\n",
    "            dict_1ch[word] = int(freq)\n",
    "        elif len(word) == 2:\n",
    "            dict_2ch[word] = int(freq)\n",
    "            \n",
    "    dict_1ch = {k: v for k, v in sorted(dict_1ch.items(), key=lambda item: item[1], reverse=True)}\n",
    "    dict_2ch = {k: v for k, v in sorted(dict_2ch.items(), key=lambda item: item[1], reverse=True)}\n",
    "\n",
    "print(\"dict_1ch:\", len(dict_1ch))\n",
    "print(\"dict_2ch:\", len(dict_2ch))"
   ]
  },
  {
   "cell_type": "code",
   "execution_count": 8,
   "id": "816afc12",
   "metadata": {},
   "outputs": [
    {
     "name": "stdout",
     "output_type": "stream",
     "text": [
      "1000\n"
     ]
    }
   ],
   "source": [
    "\"\"\"Filter 2-char word that don't much in 1-char word\"\"\"\n",
    "import zhconv\n",
    "small_1ch_list = []\n",
    "for i, char in enumerate(dict_1ch.keys()):\n",
    "    i += 1\n",
    "    if i > 1008:\n",
    "        break\n",
    "    else:\n",
    "        char = zhconv.convert(char, 'zh-cn')\n",
    "        if char not in small_1ch_list:\n",
    "            small_1ch_list.append(char)\n",
    "print(len(small_1ch_list))\n",
    "        \n",
    "filtered_2ch_word = []\n",
    "for word in dict_2ch.keys():\n",
    "    if word[0] in small_1ch_list and word[1] in small_1ch_list:\n",
    "        filtered_2ch_word.append(word)\n"
   ]
  },
  {
   "cell_type": "code",
   "execution_count": 10,
   "id": "c84311a4",
   "metadata": {},
   "outputs": [],
   "source": [
    "\"\"\"Save data info\"\"\"\n",
    "import json\n",
    "\n",
    "\n",
    "with open('./word_1ch.txt', 'w', encoding='utf-8') as word_1ch_file:\n",
    "    word_list = \" \".join(small_1ch_list)\n",
    "    word_1ch_file.write(word_list)\n",
    "    word_1ch_file.close()\n",
    "\n",
    "#with open('./word_2ch.txt', 'w') as word_2ch_file:\n",
    "#    word_list = \" \".join(filtered_2ch_word)\n",
    "#    word_2ch_file.write(word_list)\n",
    "#    word_2ch_file.close()\n",
    "\n",
    "with open('./encoder.json', 'w', encoding='utf-8') as encoder:\n",
    "    word_dict = {k: v for v, k in enumerate(small_1ch_list)} # {\"的\": 1, \"是\": 2, ...}\n",
    "    json.dump(word_dict, encoder)\n",
    "    encoder.close()\n",
    "\n",
    "with open('./decoder.json', 'w', encoding='utf-8') as decoder:\n",
    "    word_dict = {k: v for k, v in enumerate(small_1ch_list)} # {\"1\": \"的\", \"2\": \"是\", ...}\n",
    "    json.dump(word_dict, decoder)\n",
    "    decoder.close()\n",
    "    "
   ]
  },
  {
   "cell_type": "code",
   "execution_count": 11,
   "id": "59437565",
   "metadata": {},
   "outputs": [
    {
     "data": {
      "text/plain": "['伦',\n '味',\n '叙',\n '注',\n '困',\n '救',\n '硬',\n '显',\n '凡',\n '财',\n '芳',\n '球',\n '考',\n '绿',\n '虚',\n '土',\n '木',\n '争',\n '园',\n '振',\n '唱',\n '温',\n '枪',\n '答',\n '烟',\n '签',\n '俩',\n '奶',\n '幅',\n '姚',\n '毅',\n '仁',\n '端',\n '糖',\n '缺',\n '右',\n '威',\n '摆',\n '毒',\n '观',\n '刷',\n '闻',\n '莱',\n '免',\n '司',\n '乘',\n '展',\n '羊',\n '望',\n '卓',\n '赫',\n '惠',\n '霍',\n '祥',\n '宜',\n '哭',\n '塞',\n '伯',\n '汪',\n '孔',\n '韦',\n '缘',\n '景',\n '板',\n '厅',\n '遇',\n '崔',\n '扣',\n '素',\n '申',\n '赛',\n '聚',\n '吹',\n '蒂',\n '著',\n '判',\n '砸',\n '稍',\n '盐',\n '燕',\n '忘',\n '雅',\n '洁',\n '川',\n '乔',\n '澳',\n '碗',\n '秦',\n '丰',\n '优',\n '守',\n '甚',\n '征',\n '蒙',\n '逆',\n '稿',\n '界',\n '然',\n '矿']"
     },
     "execution_count": 11,
     "metadata": {},
     "output_type": "execute_result"
    }
   ],
   "source": [
    "\n",
    "\"\"\"\n",
    "100, 900\n",
    "200, 2k\n",
    "500, 15k\n",
    "1k, 38k\n",
    "2k, 71k\n",
    "\"\"\"\n",
    "small_1ch_list[-100: -1]"
   ]
  },
  {
   "cell_type": "code",
   "execution_count": null,
   "id": "5ae29024",
   "metadata": {},
   "outputs": [],
   "source": []
  }
 ],
 "metadata": {
  "kernelspec": {
   "display_name": "Python 3 (ipykernel)",
   "language": "python",
   "name": "python3"
  },
  "language_info": {
   "codemirror_mode": {
    "name": "ipython",
    "version": 3
   },
   "file_extension": ".py",
   "mimetype": "text/x-python",
   "name": "python",
   "nbconvert_exporter": "python",
   "pygments_lexer": "ipython3",
   "version": "3.9.5"
  }
 },
 "nbformat": 4,
 "nbformat_minor": 5
}