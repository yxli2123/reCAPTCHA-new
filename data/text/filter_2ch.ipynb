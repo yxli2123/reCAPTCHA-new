{
 "cells": [
  {
   "cell_type": "code",
   "execution_count": 22,
   "id": "15ec5294",
   "metadata": {},
   "outputs": [],
   "source": [
    "import re\n",
    "import json\n",
    "\n",
    "with open('common_words.txt', 'r') as fp:\n",
    "    text = fp.read()\n",
    "    text = re.findall(\"[^\\u4e00-\\u9fa5][\\u4e00-\\u9fa5][\\u4e00-\\u9fa5] \", text)\n",
    "    text = [word.replace('\\n', '') for word in text]\n",
    "    fp.close()\n",
    "\n",
    "with open('common_words_2ch.txt', 'w', encoding ='utf8') as fp1:\n",
    "    fp1.write(text)\n",
    "    "
   ]
  },
  {
   "cell_type": "code",
   "execution_count": 3,
   "id": "5e4cff92",
   "metadata": {},
   "outputs": [],
   "source": [
    "with open('character.txt', 'r') as fp:\n",
    "    text = fp.read()\n",
    "    fp.close()\n",
    "\n",
    "with open('character_return.txt', 'w') as fp1:\n",
    "    for ch in text:\n",
    "        fp1.write(ch+'\\n')\n",
    "    fp1.close()"
   ]
  },
  {
   "cell_type": "code",
   "execution_count": 16,
   "id": "0afed15e",
   "metadata": {
    "pycharm": {
     "name": "#%%\n"
    }
   },
   "outputs": [
    {
     "name": "stdout",
     "output_type": "stream",
     "text": [
      "dict_1ch: 18086\n",
      "dict_2ch: 103502\n"
     ]
    }
   ],
   "source": [
    "\"\"\"Filter 1-char and 2-char words\"\"\"\n",
    "\"\"\"\n",
    "腌 3463\n",
    "腌菜 1040\n",
    "腌法 5\n",
    "腌黄瓜 86\n",
    "腌货 5\n",
    "\"\"\"\n",
    "dict_1ch = {}\n",
    "dict_2ch = {}\n",
    "with open('webdict_with_freq.txt', 'r') as fp:\n",
    "    text = fp.readlines()\n",
    "    for line in text:\n",
    "        word, freq = line.split()  # ['腌', '3463']\n",
    "        if len(word) == 1:\n",
    "            dict_1ch[word] = int(freq)\n",
    "        elif len(word) == 2:\n",
    "            dict_2ch[word] = int(freq)\n",
    "            \n",
    "    dict_1ch = {k: v for k, v in sorted(dict_1ch.items(), key=lambda item: item[1], reverse=True)}\n",
    "    dict_2ch = {k: v for k, v in sorted(dict_2ch.items(), key=lambda item: item[1], reverse=True)}\n",
    "\n",
    "print(\"dict_1ch:\", len(dict_1ch))\n",
    "print(\"dict_2ch:\", len(dict_2ch))"
   ]
  },
  {
   "cell_type": "code",
   "execution_count": 37,
   "id": "816afc12",
   "metadata": {},
   "outputs": [],
   "source": [
    "\"\"\"Filter 2-char word that don't much in 1-char word\"\"\"\n",
    "\n",
    "small_1ch_list = []\n",
    "for i, char in enumerate(dict_1ch.keys()):\n",
    "    i += 1;\n",
    "    if i > 200:\n",
    "        break\n",
    "    else:\n",
    "        small_1ch_list.append(char)\n",
    "        \n",
    "        \n",
    "filtered_2ch_word = []\n",
    "for word in dict_2ch.keys():\n",
    "    if word[0] in small_1ch_list and word[1] in small_1ch_list:\n",
    "        filtered_2ch_word.append(word)\n"
   ]
  },
  {
   "cell_type": "code",
   "execution_count": 35,
   "id": "c84311a4",
   "metadata": {},
   "outputs": [
    {
     "name": "stdout",
     "output_type": "stream",
     "text": [
      "900\n"
     ]
    }
   ],
   "source": [
    "\"\"\"Save data info\"\"\"\n",
    "with open('./word_1ch.txt', 'w') as word_1ch_file:\n",
    "    word_list = \" \".join(small_1ch_list)\n",
    "    word_1ch_file.write(word_list)\n",
    "    word_1ch_file.close()\n",
    "\n",
    "with open('./word_2ch.txt', 'w') as word_2ch_file:\n",
    "    word_list = \" \".join(filtered_2ch_word)\n",
    "    word_2ch_file.write(word_list)\n",
    "    word_2ch_file.close()\n",
    "        \n",
    "    \n",
    "    "
   ]
  },
  {
   "cell_type": "code",
   "execution_count": null,
   "id": "59437565",
   "metadata": {},
   "outputs": [],
   "source": [
    "\n",
    "\"\"\"\n",
    "100, 900\n",
    "200, 2k\n",
    "500, 15k\n",
    "1k, 38k\n",
    "2k, 71k\n",
    "\"\"\""
   ]
  }
 ],
 "metadata": {
  "kernelspec": {
   "display_name": "Python 3 (ipykernel)",
   "language": "python",
   "name": "python3"
  },
  "language_info": {
   "codemirror_mode": {
    "name": "ipython",
    "version": 3
   },
   "file_extension": ".py",
   "mimetype": "text/x-python",
   "name": "python",
   "nbconvert_exporter": "python",
   "pygments_lexer": "ipython3",
   "version": "3.9.7"
  }
 },
 "nbformat": 4,
 "nbformat_minor": 5
}
